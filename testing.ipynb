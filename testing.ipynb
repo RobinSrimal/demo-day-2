{
 "metadata": {
  "language_info": {
   "codemirror_mode": {
    "name": "ipython",
    "version": 3
   },
   "file_extension": ".py",
   "mimetype": "text/x-python",
   "name": "python",
   "nbconvert_exporter": "python",
   "pygments_lexer": "ipython3",
   "version": "3.8.5"
  },
  "orig_nbformat": 2,
  "kernelspec": {
   "name": "python385jvsc74a57bd01baa965d5efe3ac65b79dfc60c0d706280b1da80fedb7760faf2759126c4f253",
   "display_name": "Python 3.8.5 64-bit"
  },
  "metadata": {
   "interpreter": {
    "hash": "1baa965d5efe3ac65b79dfc60c0d706280b1da80fedb7760faf2759126c4f253"
   }
  }
 },
 "nbformat": 4,
 "nbformat_minor": 2,
 "cells": [
  {
   "cell_type": "code",
   "execution_count": 1,
   "metadata": {},
   "outputs": [
    {
     "output_type": "stream",
     "name": "stdout",
     "text": [
      "Defaulting to user installation because normal site-packages is not writeable\n",
      "Requirement already satisfied: pandas in c:\\users\\srimalrs\\appdata\\roaming\\python\\python38\\site-packages (1.2.4)\n",
      "Requirement already satisfied: pytz>=2017.3 in c:\\users\\srimalrs\\appdata\\roaming\\python\\python38\\site-packages (from pandas) (2021.1)\n",
      "Requirement already satisfied: numpy>=1.16.5 in c:\\users\\srimalrs\\appdata\\roaming\\python\\python38\\site-packages (from pandas) (1.20.3)\n",
      "Requirement already satisfied: python-dateutil>=2.7.3 in c:\\users\\srimalrs\\appdata\\roaming\\python\\python38\\site-packages (from pandas) (2.8.1)\n",
      "Requirement already satisfied: six>=1.5 in c:\\users\\srimalrs\\appdata\\roaming\\python\\python38\\site-packages (from python-dateutil>=2.7.3->pandas) (1.15.0)\n",
      "WARNING: You are using pip version 20.1.1; however, version 21.1.2 is available.\n",
      "You should consider upgrading via the 'c:\\program files\\python38\\python.exe -m pip install --upgrade pip' command.\n"
     ]
    }
   ],
   "source": [
    "!pip install pandas"
   ]
  },
  {
   "cell_type": "code",
   "execution_count": 2,
   "metadata": {},
   "outputs": [
    {
     "output_type": "execute_result",
     "data": {
      "text/plain": [
       "   catid                  category\n",
       "0      1                   Apparel\n",
       "1      2                   Jewelry\n",
       "2      3                     Shoes\n",
       "3      4  Personal_Care_Appliances"
      ],
      "text/html": "<div>\n<style scoped>\n    .dataframe tbody tr th:only-of-type {\n        vertical-align: middle;\n    }\n\n    .dataframe tbody tr th {\n        vertical-align: top;\n    }\n\n    .dataframe thead th {\n        text-align: right;\n    }\n</style>\n<table border=\"1\" class=\"dataframe\">\n  <thead>\n    <tr style=\"text-align: right;\">\n      <th></th>\n      <th>catid</th>\n      <th>category</th>\n    </tr>\n  </thead>\n  <tbody>\n    <tr>\n      <th>0</th>\n      <td>1</td>\n      <td>Apparel</td>\n    </tr>\n    <tr>\n      <th>1</th>\n      <td>2</td>\n      <td>Jewelry</td>\n    </tr>\n    <tr>\n      <th>2</th>\n      <td>3</td>\n      <td>Shoes</td>\n    </tr>\n    <tr>\n      <th>3</th>\n      <td>4</td>\n      <td>Personal_Care_Appliances</td>\n    </tr>\n  </tbody>\n</table>\n</div>"
     },
     "metadata": {},
     "execution_count": 2
    }
   ],
   "source": [
    "import pandas as pd \n",
    "\n",
    "df1 = pd.read_csv(\"category.csv\")\n",
    "df1.head()\n",
    "\n",
    "\n"
   ]
  },
  {
   "cell_type": "code",
   "execution_count": 3,
   "metadata": {},
   "outputs": [
    {
     "output_type": "execute_result",
     "data": {
      "text/plain": [
       "   custid        lname    fname  ...  premuser acctcreation                   email\n",
       "0       1    Alejandro  Rosalez  ...         f      9/16/99  zckmad3386@example.com\n",
       "1       2  AnaCarolina    Silva  ...         t       8/4/96  amdfov8511@example.edu\n",
       "2       3        Arnav    Desai  ...         f      11/8/98  ompxfc5104@example.net\n",
       "3       4       Carlos  Salazar  ...         t     12/24/10  nzqhwo7739@example.biz\n",
       "4       5        Diego  Ramirez  ...         t      11/1/02  zgnhzh2914@example.org\n",
       "\n",
       "[5 rows x 8 columns]"
      ],
      "text/html": "<div>\n<style scoped>\n    .dataframe tbody tr th:only-of-type {\n        vertical-align: middle;\n    }\n\n    .dataframe tbody tr th {\n        vertical-align: top;\n    }\n\n    .dataframe thead th {\n        text-align: right;\n    }\n</style>\n<table border=\"1\" class=\"dataframe\">\n  <thead>\n    <tr style=\"text-align: right;\">\n      <th></th>\n      <th>custid</th>\n      <th>lname</th>\n      <th>fname</th>\n      <th>zip</th>\n      <th>dob</th>\n      <th>premuser</th>\n      <th>acctcreation</th>\n      <th>email</th>\n    </tr>\n  </thead>\n  <tbody>\n    <tr>\n      <th>0</th>\n      <td>1</td>\n      <td>Alejandro</td>\n      <td>Rosalez</td>\n      <td>2458</td>\n      <td>12/28/62</td>\n      <td>f</td>\n      <td>9/16/99</td>\n      <td>zckmad3386@example.com</td>\n    </tr>\n    <tr>\n      <th>1</th>\n      <td>2</td>\n      <td>AnaCarolina</td>\n      <td>Silva</td>\n      <td>58793</td>\n      <td>12/10/68</td>\n      <td>t</td>\n      <td>8/4/96</td>\n      <td>amdfov8511@example.edu</td>\n    </tr>\n    <tr>\n      <th>2</th>\n      <td>3</td>\n      <td>Arnav</td>\n      <td>Desai</td>\n      <td>22263</td>\n      <td>11/11/83</td>\n      <td>f</td>\n      <td>11/8/98</td>\n      <td>ompxfc5104@example.net</td>\n    </tr>\n    <tr>\n      <th>3</th>\n      <td>4</td>\n      <td>Carlos</td>\n      <td>Salazar</td>\n      <td>52905</td>\n      <td>10/17/70</td>\n      <td>t</td>\n      <td>12/24/10</td>\n      <td>nzqhwo7739@example.biz</td>\n    </tr>\n    <tr>\n      <th>4</th>\n      <td>5</td>\n      <td>Diego</td>\n      <td>Ramirez</td>\n      <td>38282</td>\n      <td>2/7/68</td>\n      <td>t</td>\n      <td>11/1/02</td>\n      <td>zgnhzh2914@example.org</td>\n    </tr>\n  </tbody>\n</table>\n</div>"
     },
     "metadata": {},
     "execution_count": 3
    }
   ],
   "source": [
    "df2 = pd.read_csv(\"customer.csv\")\n",
    "\n",
    "df2.head()"
   ]
  },
  {
   "cell_type": "code",
   "execution_count": 12,
   "metadata": {},
   "outputs": [
    {
     "output_type": "execute_result",
     "data": {
      "text/plain": [
       "         lid   oid  pid  quantity\n",
       "16639  16640  9903  623         1\n",
       "16640  16641  9904  222         1\n",
       "16641  16642  9905  400         1\n",
       "16642  16643  9906  775         2\n",
       "16643  16644  9907   39         2"
      ],
      "text/html": "<div>\n<style scoped>\n    .dataframe tbody tr th:only-of-type {\n        vertical-align: middle;\n    }\n\n    .dataframe tbody tr th {\n        vertical-align: top;\n    }\n\n    .dataframe thead th {\n        text-align: right;\n    }\n</style>\n<table border=\"1\" class=\"dataframe\">\n  <thead>\n    <tr style=\"text-align: right;\">\n      <th></th>\n      <th>lid</th>\n      <th>oid</th>\n      <th>pid</th>\n      <th>quantity</th>\n    </tr>\n  </thead>\n  <tbody>\n    <tr>\n      <th>16639</th>\n      <td>16640</td>\n      <td>9903</td>\n      <td>623</td>\n      <td>1</td>\n    </tr>\n    <tr>\n      <th>16640</th>\n      <td>16641</td>\n      <td>9904</td>\n      <td>222</td>\n      <td>1</td>\n    </tr>\n    <tr>\n      <th>16641</th>\n      <td>16642</td>\n      <td>9905</td>\n      <td>400</td>\n      <td>1</td>\n    </tr>\n    <tr>\n      <th>16642</th>\n      <td>16643</td>\n      <td>9906</td>\n      <td>775</td>\n      <td>2</td>\n    </tr>\n    <tr>\n      <th>16643</th>\n      <td>16644</td>\n      <td>9907</td>\n      <td>39</td>\n      <td>2</td>\n    </tr>\n  </tbody>\n</table>\n</div>"
     },
     "metadata": {},
     "execution_count": 12
    }
   ],
   "source": [
    "df3 = pd.read_csv(\"lineitem.csv\")\n",
    "\n",
    "df3.tail()\n"
   ]
  },
  {
   "cell_type": "code",
   "execution_count": 11,
   "metadata": {},
   "outputs": [
    {
     "output_type": "execute_result",
     "data": {
      "text/plain": [
       "       oid  custid                      ordertime\n",
       "9902  9903     890  2018-10-08 02:29:45.217237+00\n",
       "9903  9904      11  2018-10-08 02:30:12.693006+00\n",
       "9904  9905     381  2018-10-08 02:30:42.679505+00\n",
       "9905  9906     719  2018-10-08 02:30:55.697467+00\n",
       "9906  9907     346  2018-10-08 02:31:01.221558+00"
      ],
      "text/html": "<div>\n<style scoped>\n    .dataframe tbody tr th:only-of-type {\n        vertical-align: middle;\n    }\n\n    .dataframe tbody tr th {\n        vertical-align: top;\n    }\n\n    .dataframe thead th {\n        text-align: right;\n    }\n</style>\n<table border=\"1\" class=\"dataframe\">\n  <thead>\n    <tr style=\"text-align: right;\">\n      <th></th>\n      <th>oid</th>\n      <th>custid</th>\n      <th>ordertime</th>\n    </tr>\n  </thead>\n  <tbody>\n    <tr>\n      <th>9902</th>\n      <td>9903</td>\n      <td>890</td>\n      <td>2018-10-08 02:29:45.217237+00</td>\n    </tr>\n    <tr>\n      <th>9903</th>\n      <td>9904</td>\n      <td>11</td>\n      <td>2018-10-08 02:30:12.693006+00</td>\n    </tr>\n    <tr>\n      <th>9904</th>\n      <td>9905</td>\n      <td>381</td>\n      <td>2018-10-08 02:30:42.679505+00</td>\n    </tr>\n    <tr>\n      <th>9905</th>\n      <td>9906</td>\n      <td>719</td>\n      <td>2018-10-08 02:30:55.697467+00</td>\n    </tr>\n    <tr>\n      <th>9906</th>\n      <td>9907</td>\n      <td>346</td>\n      <td>2018-10-08 02:31:01.221558+00</td>\n    </tr>\n  </tbody>\n</table>\n</div>"
     },
     "metadata": {},
     "execution_count": 11
    }
   ],
   "source": [
    "df4 = pd.read_csv(\"orders.csv\")\n",
    "\n",
    "df4.tail()\n"
   ]
  },
  {
   "cell_type": "code",
   "execution_count": 10,
   "metadata": {},
   "outputs": [
    {
     "output_type": "execute_result",
     "data": {
      "text/plain": [
       "     pid                                       title  ...  Unnamed: 15  Unnamed: 16\n",
       "940  941          children's - scarf - white - large  ...          NaN          NaN\n",
       "941  942         children's - boots - yellow - large  ...          NaN          NaN\n",
       "942  943     children's - ear muffs - yellow - large  ...          NaN          NaN\n",
       "943  944         children's - gloves - brown - large  ...          NaN          NaN\n",
       "944  945  children's - winter gloves - brown - large  ...          NaN          NaN\n",
       "\n",
       "[5 rows x 17 columns]"
      ],
      "text/html": "<div>\n<style scoped>\n    .dataframe tbody tr th:only-of-type {\n        vertical-align: middle;\n    }\n\n    .dataframe tbody tr th {\n        vertical-align: top;\n    }\n\n    .dataframe thead th {\n        text-align: right;\n    }\n</style>\n<table border=\"1\" class=\"dataframe\">\n  <thead>\n    <tr style=\"text-align: right;\">\n      <th></th>\n      <th>pid</th>\n      <th>title</th>\n      <th>price</th>\n      <th>catid</th>\n      <th>Unnamed: 4</th>\n      <th>Unnamed: 5</th>\n      <th>Unnamed: 6</th>\n      <th>Unnamed: 7</th>\n      <th>Unnamed: 8</th>\n      <th>Unnamed: 9</th>\n      <th>Unnamed: 10</th>\n      <th>Unnamed: 11</th>\n      <th>Unnamed: 12</th>\n      <th>Unnamed: 13</th>\n      <th>Unnamed: 14</th>\n      <th>Unnamed: 15</th>\n      <th>Unnamed: 16</th>\n    </tr>\n  </thead>\n  <tbody>\n    <tr>\n      <th>940</th>\n      <td>941</td>\n      <td>children's - scarf - white - large</td>\n      <td>122.27</td>\n      <td>4</td>\n      <td>NaN</td>\n      <td>NaN</td>\n      <td>NaN</td>\n      <td>NaN</td>\n      <td>NaN</td>\n      <td>NaN</td>\n      <td>NaN</td>\n      <td>NaN</td>\n      <td>NaN</td>\n      <td>NaN</td>\n      <td>NaN</td>\n      <td>NaN</td>\n      <td>NaN</td>\n    </tr>\n    <tr>\n      <th>941</th>\n      <td>942</td>\n      <td>children's - boots - yellow - large</td>\n      <td>161.23</td>\n      <td>4</td>\n      <td>NaN</td>\n      <td>NaN</td>\n      <td>NaN</td>\n      <td>NaN</td>\n      <td>NaN</td>\n      <td>NaN</td>\n      <td>NaN</td>\n      <td>NaN</td>\n      <td>NaN</td>\n      <td>NaN</td>\n      <td>NaN</td>\n      <td>NaN</td>\n      <td>NaN</td>\n    </tr>\n    <tr>\n      <th>942</th>\n      <td>943</td>\n      <td>children's - ear muffs - yellow - large</td>\n      <td>88.78</td>\n      <td>4</td>\n      <td>NaN</td>\n      <td>NaN</td>\n      <td>NaN</td>\n      <td>NaN</td>\n      <td>NaN</td>\n      <td>NaN</td>\n      <td>NaN</td>\n      <td>NaN</td>\n      <td>NaN</td>\n      <td>NaN</td>\n      <td>NaN</td>\n      <td>NaN</td>\n      <td>NaN</td>\n    </tr>\n    <tr>\n      <th>943</th>\n      <td>944</td>\n      <td>children's - gloves - brown - large</td>\n      <td>185.54</td>\n      <td>4</td>\n      <td>NaN</td>\n      <td>NaN</td>\n      <td>NaN</td>\n      <td>NaN</td>\n      <td>NaN</td>\n      <td>NaN</td>\n      <td>NaN</td>\n      <td>NaN</td>\n      <td>NaN</td>\n      <td>NaN</td>\n      <td>NaN</td>\n      <td>NaN</td>\n      <td>NaN</td>\n    </tr>\n    <tr>\n      <th>944</th>\n      <td>945</td>\n      <td>children's - winter gloves - brown - large</td>\n      <td>167.44</td>\n      <td>4</td>\n      <td>NaN</td>\n      <td>NaN</td>\n      <td>NaN</td>\n      <td>NaN</td>\n      <td>NaN</td>\n      <td>NaN</td>\n      <td>NaN</td>\n      <td>NaN</td>\n      <td>NaN</td>\n      <td>NaN</td>\n      <td>NaN</td>\n      <td>NaN</td>\n      <td>NaN</td>\n    </tr>\n  </tbody>\n</table>\n</div>"
     },
     "metadata": {},
     "execution_count": 10
    }
   ],
   "source": [
    "df5 = pd.read_csv(\"product.csv\")\n",
    "\n",
    "df5.tail()"
   ]
  },
  {
   "cell_type": "code",
   "execution_count": null,
   "metadata": {},
   "outputs": [],
   "source": []
  }
 ]
}